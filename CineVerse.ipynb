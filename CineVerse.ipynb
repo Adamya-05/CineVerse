{
  "nbformat": 4,
  "nbformat_minor": 0,
  "metadata": {
    "colab": {
      "provenance": []
    },
    "kernelspec": {
      "name": "python3",
      "display_name": "Python 3"
    },
    "language_info": {
      "name": "python"
    },
    "widgets": {
      "application/vnd.jupyter.widget-state+json": {
        "02f0dee1c6a84031bd4872cac36a6bda": {
          "model_module": "@jupyter-widgets/controls",
          "model_name": "SelectMultipleModel",
          "model_module_version": "1.5.0",
          "state": {
            "_dom_classes": [],
            "_model_module": "@jupyter-widgets/controls",
            "_model_module_version": "1.5.0",
            "_model_name": "SelectMultipleModel",
            "_options_labels": [
              "(no genres listed)",
              "Action",
              "Adventure",
              "Animation",
              "Children",
              "Comedy",
              "Crime",
              "Documentary",
              "Drama",
              "Fantasy",
              "Film-Noir",
              "Horror",
              "IMAX",
              "Musical",
              "Mystery",
              "Romance",
              "Sci-Fi",
              "Thriller",
              "War",
              "Western"
            ],
            "_view_count": null,
            "_view_module": "@jupyter-widgets/controls",
            "_view_module_version": "1.5.0",
            "_view_name": "SelectMultipleView",
            "description": "Genres",
            "description_tooltip": null,
            "disabled": false,
            "index": [
              2
            ],
            "layout": "IPY_MODEL_8ca2b10c22aa44d6baa5e64a21c4b749",
            "rows": 10,
            "style": "IPY_MODEL_80295d6e1da342f8bc0d07cef009577f"
          }
        },
        "8ca2b10c22aa44d6baa5e64a21c4b749": {
          "model_module": "@jupyter-widgets/base",
          "model_name": "LayoutModel",
          "model_module_version": "1.2.0",
          "state": {
            "_model_module": "@jupyter-widgets/base",
            "_model_module_version": "1.2.0",
            "_model_name": "LayoutModel",
            "_view_count": null,
            "_view_module": "@jupyter-widgets/base",
            "_view_module_version": "1.2.0",
            "_view_name": "LayoutView",
            "align_content": null,
            "align_items": null,
            "align_self": null,
            "border": null,
            "bottom": null,
            "display": null,
            "flex": null,
            "flex_flow": null,
            "grid_area": null,
            "grid_auto_columns": null,
            "grid_auto_flow": null,
            "grid_auto_rows": null,
            "grid_column": null,
            "grid_gap": null,
            "grid_row": null,
            "grid_template_areas": null,
            "grid_template_columns": null,
            "grid_template_rows": null,
            "height": null,
            "justify_content": null,
            "justify_items": null,
            "left": null,
            "margin": null,
            "max_height": null,
            "max_width": null,
            "min_height": null,
            "min_width": null,
            "object_fit": null,
            "object_position": null,
            "order": null,
            "overflow": null,
            "overflow_x": null,
            "overflow_y": null,
            "padding": null,
            "right": null,
            "top": null,
            "visibility": null,
            "width": null
          }
        },
        "80295d6e1da342f8bc0d07cef009577f": {
          "model_module": "@jupyter-widgets/controls",
          "model_name": "DescriptionStyleModel",
          "model_module_version": "1.5.0",
          "state": {
            "_model_module": "@jupyter-widgets/controls",
            "_model_module_version": "1.5.0",
            "_model_name": "DescriptionStyleModel",
            "_view_count": null,
            "_view_module": "@jupyter-widgets/base",
            "_view_module_version": "1.2.0",
            "_view_name": "StyleView",
            "description_width": ""
          }
        },
        "09d7aee48cf04f24b11c4faa8e130f57": {
          "model_module": "@jupyter-widgets/controls",
          "model_name": "SelectMultipleModel",
          "model_module_version": "1.5.0",
          "state": {
            "_dom_classes": [],
            "_model_module": "@jupyter-widgets/controls",
            "_model_module_version": "1.5.0",
            "_model_name": "SelectMultipleModel",
            "_options_labels": [
              "visually appealing",
              "funny",
              "cinematography",
              "atmospheric",
              "predictable",
              "thought-provoking",
              "superhero",
              "social commentary",
              "surreal",
              "time travel",
              "coming of age",
              "dystopia",
              "based on a true story",
              "twist ending",
              "based on a book",
              "plot twist",
              "space",
              "psychological",
              "boring",
              "true story"
            ],
            "_view_count": null,
            "_view_module": "@jupyter-widgets/controls",
            "_view_module_version": "1.5.0",
            "_view_name": "SelectMultipleView",
            "description": "Tags",
            "description_tooltip": null,
            "disabled": false,
            "index": [
              4
            ],
            "layout": "IPY_MODEL_7df8b311ab944cf494d0b3bbd41dd592",
            "rows": 10,
            "style": "IPY_MODEL_b0c621fcba0c44648d1fb67b56df6b86"
          }
        },
        "7df8b311ab944cf494d0b3bbd41dd592": {
          "model_module": "@jupyter-widgets/base",
          "model_name": "LayoutModel",
          "model_module_version": "1.2.0",
          "state": {
            "_model_module": "@jupyter-widgets/base",
            "_model_module_version": "1.2.0",
            "_model_name": "LayoutModel",
            "_view_count": null,
            "_view_module": "@jupyter-widgets/base",
            "_view_module_version": "1.2.0",
            "_view_name": "LayoutView",
            "align_content": null,
            "align_items": null,
            "align_self": null,
            "border": null,
            "bottom": null,
            "display": null,
            "flex": null,
            "flex_flow": null,
            "grid_area": null,
            "grid_auto_columns": null,
            "grid_auto_flow": null,
            "grid_auto_rows": null,
            "grid_column": null,
            "grid_gap": null,
            "grid_row": null,
            "grid_template_areas": null,
            "grid_template_columns": null,
            "grid_template_rows": null,
            "height": null,
            "justify_content": null,
            "justify_items": null,
            "left": null,
            "margin": null,
            "max_height": null,
            "max_width": null,
            "min_height": null,
            "min_width": null,
            "object_fit": null,
            "object_position": null,
            "order": null,
            "overflow": null,
            "overflow_x": null,
            "overflow_y": null,
            "padding": null,
            "right": null,
            "top": null,
            "visibility": null,
            "width": null
          }
        },
        "b0c621fcba0c44648d1fb67b56df6b86": {
          "model_module": "@jupyter-widgets/controls",
          "model_name": "DescriptionStyleModel",
          "model_module_version": "1.5.0",
          "state": {
            "_model_module": "@jupyter-widgets/controls",
            "_model_module_version": "1.5.0",
            "_model_name": "DescriptionStyleModel",
            "_view_count": null,
            "_view_module": "@jupyter-widgets/base",
            "_view_module_version": "1.2.0",
            "_view_name": "StyleView",
            "description_width": ""
          }
        },
        "2e242080c8454000b431ace6edbd0acb": {
          "model_module": "@jupyter-widgets/controls",
          "model_name": "IntRangeSliderModel",
          "model_module_version": "1.5.0",
          "state": {
            "_dom_classes": [],
            "_model_module": "@jupyter-widgets/controls",
            "_model_module_version": "1.5.0",
            "_model_name": "IntRangeSliderModel",
            "_view_count": null,
            "_view_module": "@jupyter-widgets/controls",
            "_view_module_version": "1.5.0",
            "_view_name": "IntRangeSliderView",
            "continuous_update": false,
            "description": "Years:",
            "description_tooltip": null,
            "disabled": false,
            "layout": "IPY_MODEL_a3d1aeed4ab549a4a78c6a53fab1ae95",
            "max": 2023,
            "min": 2010,
            "orientation": "horizontal",
            "readout": true,
            "readout_format": "d",
            "step": 1,
            "style": "IPY_MODEL_ee6be9d2278d4839a407ab2438e67dcb",
            "value": [
              2010,
              2023
            ]
          }
        },
        "a3d1aeed4ab549a4a78c6a53fab1ae95": {
          "model_module": "@jupyter-widgets/base",
          "model_name": "LayoutModel",
          "model_module_version": "1.2.0",
          "state": {
            "_model_module": "@jupyter-widgets/base",
            "_model_module_version": "1.2.0",
            "_model_name": "LayoutModel",
            "_view_count": null,
            "_view_module": "@jupyter-widgets/base",
            "_view_module_version": "1.2.0",
            "_view_name": "LayoutView",
            "align_content": null,
            "align_items": null,
            "align_self": null,
            "border": null,
            "bottom": null,
            "display": null,
            "flex": null,
            "flex_flow": null,
            "grid_area": null,
            "grid_auto_columns": null,
            "grid_auto_flow": null,
            "grid_auto_rows": null,
            "grid_column": null,
            "grid_gap": null,
            "grid_row": null,
            "grid_template_areas": null,
            "grid_template_columns": null,
            "grid_template_rows": null,
            "height": null,
            "justify_content": null,
            "justify_items": null,
            "left": null,
            "margin": null,
            "max_height": null,
            "max_width": null,
            "min_height": null,
            "min_width": null,
            "object_fit": null,
            "object_position": null,
            "order": null,
            "overflow": null,
            "overflow_x": null,
            "overflow_y": null,
            "padding": null,
            "right": null,
            "top": null,
            "visibility": null,
            "width": null
          }
        },
        "ee6be9d2278d4839a407ab2438e67dcb": {
          "model_module": "@jupyter-widgets/controls",
          "model_name": "SliderStyleModel",
          "model_module_version": "1.5.0",
          "state": {
            "_model_module": "@jupyter-widgets/controls",
            "_model_module_version": "1.5.0",
            "_model_name": "SliderStyleModel",
            "_view_count": null,
            "_view_module": "@jupyter-widgets/base",
            "_view_module_version": "1.2.0",
            "_view_name": "StyleView",
            "description_width": "",
            "handle_color": null
          }
        },
        "4edc875e55f2493a9f0c74b70cb207c2": {
          "model_module": "@jupyter-widgets/controls",
          "model_name": "ButtonModel",
          "model_module_version": "1.5.0",
          "state": {
            "_dom_classes": [],
            "_model_module": "@jupyter-widgets/controls",
            "_model_module_version": "1.5.0",
            "_model_name": "ButtonModel",
            "_view_count": null,
            "_view_module": "@jupyter-widgets/controls",
            "_view_module_version": "1.5.0",
            "_view_name": "ButtonView",
            "button_style": "",
            "description": "Get Recommendations",
            "disabled": false,
            "icon": "",
            "layout": "IPY_MODEL_8d23811279c34afc8ec7e06744f23b4f",
            "style": "IPY_MODEL_6b7147e7701542e8bb96c2cb313aaa6f",
            "tooltip": ""
          }
        },
        "8d23811279c34afc8ec7e06744f23b4f": {
          "model_module": "@jupyter-widgets/base",
          "model_name": "LayoutModel",
          "model_module_version": "1.2.0",
          "state": {
            "_model_module": "@jupyter-widgets/base",
            "_model_module_version": "1.2.0",
            "_model_name": "LayoutModel",
            "_view_count": null,
            "_view_module": "@jupyter-widgets/base",
            "_view_module_version": "1.2.0",
            "_view_name": "LayoutView",
            "align_content": null,
            "align_items": null,
            "align_self": null,
            "border": null,
            "bottom": null,
            "display": null,
            "flex": null,
            "flex_flow": null,
            "grid_area": null,
            "grid_auto_columns": null,
            "grid_auto_flow": null,
            "grid_auto_rows": null,
            "grid_column": null,
            "grid_gap": null,
            "grid_row": null,
            "grid_template_areas": null,
            "grid_template_columns": null,
            "grid_template_rows": null,
            "height": null,
            "justify_content": null,
            "justify_items": null,
            "left": null,
            "margin": null,
            "max_height": null,
            "max_width": null,
            "min_height": null,
            "min_width": null,
            "object_fit": null,
            "object_position": null,
            "order": null,
            "overflow": null,
            "overflow_x": null,
            "overflow_y": null,
            "padding": null,
            "right": null,
            "top": null,
            "visibility": null,
            "width": null
          }
        },
        "6b7147e7701542e8bb96c2cb313aaa6f": {
          "model_module": "@jupyter-widgets/controls",
          "model_name": "ButtonStyleModel",
          "model_module_version": "1.5.0",
          "state": {
            "_model_module": "@jupyter-widgets/controls",
            "_model_module_version": "1.5.0",
            "_model_name": "ButtonStyleModel",
            "_view_count": null,
            "_view_module": "@jupyter-widgets/base",
            "_view_module_version": "1.2.0",
            "_view_name": "StyleView",
            "button_color": null,
            "font_weight": ""
          }
        },
        "21ae6c67a15b421289337629c0f19453": {
          "model_module": "@jupyter-widgets/output",
          "model_name": "OutputModel",
          "model_module_version": "1.0.0",
          "state": {
            "_dom_classes": [],
            "_model_module": "@jupyter-widgets/output",
            "_model_module_version": "1.0.0",
            "_model_name": "OutputModel",
            "_view_count": null,
            "_view_module": "@jupyter-widgets/output",
            "_view_module_version": "1.0.0",
            "_view_name": "OutputView",
            "layout": "IPY_MODEL_5b090cad32ce47c29960f4a5be2e3215",
            "msg_id": "96c0db97-b662-44ce-f536-9b6cfc8b9a3a",
            "outputs": [
              {
                "output_type": "stream",
                "name": "stdout",
                "text": [
                  "Fetching recommendations...\n",
                  "\n"
                ]
              }
            ]
          }
        },
        "5b090cad32ce47c29960f4a5be2e3215": {
          "model_module": "@jupyter-widgets/base",
          "model_name": "LayoutModel",
          "model_module_version": "1.2.0",
          "state": {
            "_model_module": "@jupyter-widgets/base",
            "_model_module_version": "1.2.0",
            "_model_name": "LayoutModel",
            "_view_count": null,
            "_view_module": "@jupyter-widgets/base",
            "_view_module_version": "1.2.0",
            "_view_name": "LayoutView",
            "align_content": null,
            "align_items": null,
            "align_self": null,
            "border": null,
            "bottom": null,
            "display": null,
            "flex": null,
            "flex_flow": null,
            "grid_area": null,
            "grid_auto_columns": null,
            "grid_auto_flow": null,
            "grid_auto_rows": null,
            "grid_column": null,
            "grid_gap": null,
            "grid_row": null,
            "grid_template_areas": null,
            "grid_template_columns": null,
            "grid_template_rows": null,
            "height": null,
            "justify_content": null,
            "justify_items": null,
            "left": null,
            "margin": null,
            "max_height": null,
            "max_width": null,
            "min_height": null,
            "min_width": null,
            "object_fit": null,
            "object_position": null,
            "order": null,
            "overflow": null,
            "overflow_x": null,
            "overflow_y": null,
            "padding": null,
            "right": null,
            "top": null,
            "visibility": null,
            "width": null
          }
        }
      }
    }
  },
  "cells": [
    {
      "cell_type": "code",
      "source": [
        "!pip install surprise\n"
      ],
      "metadata": {
        "colab": {
          "base_uri": "https://localhost:8080/"
        },
        "id": "2E6N9xOYugcO",
        "outputId": "4dbccb38-f7f5-4cf8-8284-99eafa09ad61"
      },
      "execution_count": null,
      "outputs": [
        {
          "output_type": "stream",
          "name": "stdout",
          "text": [
            "Collecting surprise\n",
            "  Downloading surprise-0.1-py2.py3-none-any.whl.metadata (327 bytes)\n",
            "Collecting scikit-surprise (from surprise)\n",
            "  Downloading scikit_surprise-1.1.4.tar.gz (154 kB)\n",
            "\u001b[2K     \u001b[90m━━━━━━━━━━━━━━━━━━━━━━━━━━━━━━━━━━━━━━━\u001b[0m \u001b[32m154.4/154.4 kB\u001b[0m \u001b[31m3.1 MB/s\u001b[0m eta \u001b[36m0:00:00\u001b[0m\n",
            "\u001b[?25h  Installing build dependencies ... \u001b[?25l\u001b[?25hdone\n",
            "  Getting requirements to build wheel ... \u001b[?25l\u001b[?25hdone\n",
            "  Preparing metadata (pyproject.toml) ... \u001b[?25l\u001b[?25hdone\n",
            "Requirement already satisfied: joblib>=1.2.0 in /usr/local/lib/python3.11/dist-packages (from scikit-surprise->surprise) (1.5.0)\n",
            "Requirement already satisfied: numpy>=1.19.5 in /usr/local/lib/python3.11/dist-packages (from scikit-surprise->surprise) (2.0.2)\n",
            "Requirement already satisfied: scipy>=1.6.0 in /usr/local/lib/python3.11/dist-packages (from scikit-surprise->surprise) (1.15.2)\n",
            "Downloading surprise-0.1-py2.py3-none-any.whl (1.8 kB)\n",
            "Building wheels for collected packages: scikit-surprise\n",
            "  Building wheel for scikit-surprise (pyproject.toml) ... \u001b[?25l\u001b[?25hdone\n",
            "  Created wheel for scikit-surprise: filename=scikit_surprise-1.1.4-cp311-cp311-linux_x86_64.whl size=2461563 sha256=d579779bbd232f70f6fc0c2acdc68ae01c4b02883af98472fcc0596f78f8b523\n",
            "  Stored in directory: /root/.cache/pip/wheels/2a/8f/6e/7e2899163e2d85d8266daab4aa1cdabec7a6c56f83c015b5af\n",
            "Successfully built scikit-surprise\n",
            "Installing collected packages: scikit-surprise, surprise\n",
            "Successfully installed scikit-surprise-1.1.4 surprise-0.1\n"
          ]
        }
      ]
    },
    {
      "cell_type": "code",
      "source": [
        "!pip install numpy==1.24.4 --force-reinstall\n"
      ],
      "metadata": {
        "colab": {
          "base_uri": "https://localhost:8080/",
          "height": 426
        },
        "id": "FTi_x0iWkUvg",
        "outputId": "817d8af8-b782-4d95-a5d8-e288e1dc1791"
      },
      "execution_count": null,
      "outputs": [
        {
          "output_type": "stream",
          "name": "stdout",
          "text": [
            "Collecting numpy==1.24.4\n",
            "  Downloading numpy-1.24.4-cp311-cp311-manylinux_2_17_x86_64.manylinux2014_x86_64.whl.metadata (5.6 kB)\n",
            "Downloading numpy-1.24.4-cp311-cp311-manylinux_2_17_x86_64.manylinux2014_x86_64.whl (17.3 MB)\n",
            "\u001b[2K   \u001b[90m━━━━━━━━━━━━━━━━━━━━━━━━━━━━━━━━━━━━━━━━\u001b[0m \u001b[32m17.3/17.3 MB\u001b[0m \u001b[31m97.2 MB/s\u001b[0m eta \u001b[36m0:00:00\u001b[0m\n",
            "\u001b[?25hInstalling collected packages: numpy\n",
            "  Attempting uninstall: numpy\n",
            "    Found existing installation: numpy 2.0.2\n",
            "    Uninstalling numpy-2.0.2:\n",
            "      Successfully uninstalled numpy-2.0.2\n",
            "\u001b[31mERROR: pip's dependency resolver does not currently take into account all the packages that are installed. This behaviour is the source of the following dependency conflicts.\n",
            "treescope 0.1.9 requires numpy>=1.25.2, but you have numpy 1.24.4 which is incompatible.\n",
            "pymc 5.22.0 requires numpy>=1.25.0, but you have numpy 1.24.4 which is incompatible.\n",
            "thinc 8.3.6 requires numpy<3.0.0,>=2.0.0, but you have numpy 1.24.4 which is incompatible.\n",
            "jaxlib 0.5.1 requires numpy>=1.25, but you have numpy 1.24.4 which is incompatible.\n",
            "tensorflow 2.18.0 requires numpy<2.1.0,>=1.26.0, but you have numpy 1.24.4 which is incompatible.\n",
            "blosc2 3.3.2 requires numpy>=1.26, but you have numpy 1.24.4 which is incompatible.\n",
            "jax 0.5.2 requires numpy>=1.25, but you have numpy 1.24.4 which is incompatible.\u001b[0m\u001b[31m\n",
            "\u001b[0mSuccessfully installed numpy-1.24.4\n"
          ]
        },
        {
          "output_type": "display_data",
          "data": {
            "application/vnd.colab-display-data+json": {
              "pip_warning": {
                "packages": [
                  "numpy"
                ]
              },
              "id": "fd6db96ff04e48fc916acaf2f3c55f48"
            }
          },
          "metadata": {}
        }
      ]
    },
    {
      "cell_type": "code",
      "execution_count": null,
      "metadata": {
        "colab": {
          "base_uri": "https://localhost:8080/"
        },
        "id": "kprSe1JmkB_z",
        "outputId": "e67bc6dd-3b15-4f0c-c37c-f473e0b14998"
      },
      "outputs": [
        {
          "output_type": "stream",
          "name": "stdout",
          "text": [
            "RMSE: 0.3527\n",
            "MAE:  0.1938\n",
            "CF (SVD) → RMSE: 0.3527, MAE: 0.1938\n",
            "Content-Based → Mean Precision@10: 0.1202\n",
            "\n"
          ]
        }
      ],
      "source": [
        "# 1) Imports\n",
        "import pandas as pd\n",
        "import numpy as np\n",
        "from sklearn.feature_extraction.text import TfidfVectorizer\n",
        "from sklearn.metrics.pairwise import cosine_similarity\n",
        "from surprise import SVD, Dataset, Reader\n",
        "from surprise.model_selection import train_test_split as surprise_split\n",
        "from surprise.accuracy import rmse, mae\n",
        "from collections import defaultdict\n",
        "import ipywidgets as widgets\n",
        "from IPython.display import display\n",
        "\n",
        "# 2) Load & preprocess\n",
        "df = pd.read_csv(\"movielens_post2010_only_with_tags.csv\")\n",
        "df['userId']  = df['userId'].astype(int)\n",
        "df['movieId'] = df['movieId'].astype(int)\n",
        "df['rating']  = df['rating'].astype(float)\n",
        "df['genres']  = df['genres'].fillna('')\n",
        "df['tag']     = df['tag'].fillna('')\n",
        "df['year']    = df['year'].fillna(df['year'].median()).astype(int)\n",
        "\n",
        "# 3) Prepare train/test for CF (Surprise)\n",
        "reader = Reader(rating_scale=(0.5, 5.0))\n",
        "data = Dataset.load_from_df(df[['userId', 'movieId', 'rating']], reader)\n",
        "trainset, testset = surprise_split(data, test_size=0.3, random_state=42)\n",
        "\n",
        "# 4) SVD Collaborative Filtering (Surprise)\n",
        "svd = SVD()\n",
        "svd.fit(trainset)\n",
        "predictions = svd.test(testset)\n",
        "print(f\"CF (SVD) → RMSE: {rmse(predictions):.4f}, MAE: {mae(predictions):.4f}\")\n",
        "\n",
        "# 5) Improved Content-Based Filtering (TF-IDF with rating-weighted profiles)\n",
        "movies = df.drop_duplicates('movieId').reset_index(drop=True)\n",
        "movies['combined'] = movies['genres'] + \" \" + movies['tag'] + \" \" + movies['year'].astype(str)\n",
        "tfidf = TfidfVectorizer(stop_words='english', ngram_range=(1, 2), min_df=3)\n",
        "tfidf_matrix = tfidf.fit_transform(movies['combined'])\n",
        "mid_to_idx = {mid:i for i,mid in enumerate(movies['movieId'])}\n",
        "\n",
        "# User history\n",
        "df_unique = df.drop_duplicates(['userId','movieId'])\n",
        "train_df = pd.DataFrame(trainset.build_testset(), columns=['userId','movieId','rating'])\n",
        "test_df  = pd.DataFrame(testset, columns=['userId','movieId','rating'])\n",
        "\n",
        "holdout = defaultdict(set)\n",
        "hist    = defaultdict(list)\n",
        "for u, m, _ in test_df.itertuples(index=False):\n",
        "    holdout[u].add(m)\n",
        "for u, m, r in train_df.itertuples(index=False):\n",
        "    if m in mid_to_idx:\n",
        "        hist[u].append((mid_to_idx[m], r))\n",
        "\n",
        "def precision_at_k(actual, preds, k=10):\n",
        "    return len(set(preds[:k]) & actual) / k\n",
        "\n",
        "precisions = []\n",
        "for u, actuals in holdout.items():\n",
        "    if not hist[u]: continue\n",
        "    # Weighted profile\n",
        "    profile = np.zeros(tfidf_matrix.shape[1])\n",
        "    total_rating = sum(r for _, r in hist[u])\n",
        "    for idx, rating in hist[u]:\n",
        "        profile += (rating / total_rating) * tfidf_matrix[idx].toarray().flatten()\n",
        "    profile = profile.reshape(1, -1)\n",
        "    sims = cosine_similarity(profile, tfidf_matrix).flatten()\n",
        "    unseen = [(sims[i], movies.at[i,'movieId']) for i in range(len(movies)) if movies.at[i,'movieId'] not in dict(hist[u])]\n",
        "    unseen = list(dict.fromkeys(unseen))\n",
        "    unseen = [item for item in unseen if item[0] > 0.1]  # filter low similarity\n",
        "    unseen.sort(reverse=True)\n",
        "    recs = [mid for _,mid in unseen[:10]]\n",
        "    precisions.append(precision_at_k(actuals, recs))\n",
        "\n",
        "print(f\"Content-Based → Mean Precision@10: {np.mean(precisions):.4f}\\n\")\n",
        "\n",
        "\n",
        "\n"
      ]
    },
    {
      "cell_type": "code",
      "source": [
        "# 6) Interactive Hybrid Recommender\n",
        "genres = sorted(set(g for g in '|'.join(df['genres']).split('|') if g))\n",
        "all_genres_lower = set(g.lower() for g in genres)\n",
        "top_tags_raw = df['tag'].dropna().str.lower().value_counts().index.tolist()\n",
        "top_tags = [tag for tag in top_tags_raw if tag not in all_genres_lower][:20]\n",
        "\n",
        "# Widgets\n",
        "genre_select = widgets.SelectMultiple(options=genres, description='Genres', rows=10)\n",
        "tag_select = widgets.SelectMultiple(options=top_tags, description='Tags', rows=10)\n",
        "min_year = int(df['year'].min())\n",
        "max_year = int(df['year'].max())\n",
        "year_range = widgets.IntRangeSlider(value=[2010, 2023], min=min_year, max=max_year, step=1, description='Years:', continuous_update=False)\n",
        "generate_button = widgets.Button(description=\"Get Recommendations\")\n",
        "output = widgets.Output()\n",
        "display(genre_select, tag_select, year_range, generate_button, output)\n",
        "\n",
        "# Button click handler\n",
        "def on_generate_click(b):\n",
        "    with output:\n",
        "        output.clear_output()\n",
        "        selected_genres = list(genre_select.value)\n",
        "        selected_tags = list(tag_select.value)\n",
        "        year_min, year_max = year_range.value\n",
        "\n",
        "        print(\"Fetching recommendations...\\n\")\n",
        "\n",
        "        filtered = df.copy()\n",
        "        if selected_genres:\n",
        "            filtered = filtered[filtered['genres'].str.contains('|'.join(selected_genres))]\n",
        "        if selected_tags:\n",
        "            filtered = filtered[filtered['tag'].str.lower().isin(selected_tags)]\n",
        "        filtered = filtered[(filtered['year'] >= year_min) & (filtered['year'] <= year_max)]\n",
        "        filtered = filtered.drop_duplicates('movieId')\n",
        "\n",
        "        if filtered.empty:\n",
        "            print(\"No movies found matching your filters.\")\n",
        "            return\n",
        "\n",
        "        user_id = 78213  # Can be dynamic later\n",
        "\n",
        "        # Get all movies user has rated in training data\n",
        "        user_rated = df[(df['userId'] == user_id) & (df['movieId'].isin(mid_to_idx.keys()))]\n",
        "        if user_rated.empty:\n",
        "            print(\"No rating history found for this user.\")\n",
        "            return\n",
        "\n",
        "        # Build content profile from past ratings\n",
        "        user_hist = user_rated[['movieId', 'rating']].values\n",
        "        profile = np.zeros(tfidf_matrix.shape[1])\n",
        "        total_rating = sum(r for _, r in user_hist)\n",
        "        for mid, r in user_hist:\n",
        "            idx = mid_to_idx.get(mid)\n",
        "            if idx is not None:\n",
        "                profile += (r / total_rating) * tfidf_matrix[idx].toarray().flatten()\n",
        "        profile = profile.reshape(1, -1)\n",
        "\n",
        "        # Filter out movies already rated by user\n",
        "        seen_movie_ids = set(user_rated['movieId'])\n",
        "        filtered = filtered[~filtered['movieId'].isin(seen_movie_ids)]\n",
        "\n",
        "        if filtered.empty:\n",
        "            print(\"You have already rated all movies in this filter.\")\n",
        "            return\n",
        "\n",
        "        # Compute SVD and content scores\n",
        "        filtered['svd_score'] = filtered['movieId'].apply(lambda x: svd.predict(user_id, x).est)\n",
        "        filtered['content_score'] = filtered['movieId'].apply(\n",
        "            lambda x: cosine_similarity(profile, tfidf_matrix[mid_to_idx[x]]).flatten()[0] if x in mid_to_idx else 0\n",
        "        )\n",
        "\n",
        "        # Hybrid scoring\n",
        "        filtered['hybrid_score'] = 0.6 * filtered['svd_score'] + 0.4 * filtered['content_score']\n",
        "        filtered = filtered.sort_values(by='hybrid_score', ascending=False)\n",
        "\n",
        "        if filtered.empty:\n",
        "            print(\"No recommendations found after scoring.\")\n",
        "            return\n",
        "\n",
        "        print(\"Top 10 recommendations:\\n\")\n",
        "        print(filtered[['title', 'genres', 'tag', 'year']].head(10).to_string(index=False))\n",
        "        print(\"\\n\")\n",
        "\n",
        "generate_button.on_click(on_generate_click)\n",
        "\n",
        "\n"
      ],
      "metadata": {
        "colab": {
          "base_uri": "https://localhost:8080/",
          "height": 466,
          "referenced_widgets": [
            "02f0dee1c6a84031bd4872cac36a6bda",
            "8ca2b10c22aa44d6baa5e64a21c4b749",
            "80295d6e1da342f8bc0d07cef009577f",
            "09d7aee48cf04f24b11c4faa8e130f57",
            "7df8b311ab944cf494d0b3bbd41dd592",
            "b0c621fcba0c44648d1fb67b56df6b86",
            "2e242080c8454000b431ace6edbd0acb",
            "a3d1aeed4ab549a4a78c6a53fab1ae95",
            "ee6be9d2278d4839a407ab2438e67dcb",
            "4edc875e55f2493a9f0c74b70cb207c2",
            "8d23811279c34afc8ec7e06744f23b4f",
            "6b7147e7701542e8bb96c2cb313aaa6f",
            "21ae6c67a15b421289337629c0f19453",
            "5b090cad32ce47c29960f4a5be2e3215"
          ]
        },
        "id": "vORhlpKK1O_u",
        "outputId": "b95c3805-041c-4861-cc7f-655d4291321e"
      },
      "execution_count": null,
      "outputs": [
        {
          "output_type": "display_data",
          "data": {
            "text/plain": [
              "SelectMultiple(description='Genres', options=('(no genres listed)', 'Action', 'Adventure', 'Animation', 'Child…"
            ],
            "application/vnd.jupyter.widget-view+json": {
              "version_major": 2,
              "version_minor": 0,
              "model_id": "02f0dee1c6a84031bd4872cac36a6bda"
            }
          },
          "metadata": {}
        },
        {
          "output_type": "display_data",
          "data": {
            "text/plain": [
              "SelectMultiple(description='Tags', options=('visually appealing', 'funny', 'cinematography', 'atmospheric', 'p…"
            ],
            "application/vnd.jupyter.widget-view+json": {
              "version_major": 2,
              "version_minor": 0,
              "model_id": "09d7aee48cf04f24b11c4faa8e130f57"
            }
          },
          "metadata": {}
        },
        {
          "output_type": "display_data",
          "data": {
            "text/plain": [
              "IntRangeSlider(value=(2010, 2023), continuous_update=False, description='Years:', max=2023, min=2010)"
            ],
            "application/vnd.jupyter.widget-view+json": {
              "version_major": 2,
              "version_minor": 0,
              "model_id": "2e242080c8454000b431ace6edbd0acb"
            }
          },
          "metadata": {}
        },
        {
          "output_type": "display_data",
          "data": {
            "text/plain": [
              "Button(description='Get Recommendations', style=ButtonStyle())"
            ],
            "application/vnd.jupyter.widget-view+json": {
              "version_major": 2,
              "version_minor": 0,
              "model_id": "4edc875e55f2493a9f0c74b70cb207c2"
            }
          },
          "metadata": {}
        },
        {
          "output_type": "display_data",
          "data": {
            "text/plain": [
              "Output()"
            ],
            "application/vnd.jupyter.widget-view+json": {
              "version_major": 2,
              "version_minor": 0,
              "model_id": "21ae6c67a15b421289337629c0f19453"
            }
          },
          "metadata": {}
        }
      ]
    },
    {
      "cell_type": "code",
      "source": [
        "df['userId'].value_counts().head(10)\n"
      ],
      "metadata": {
        "colab": {
          "base_uri": "https://localhost:8080/",
          "height": 429
        },
        "id": "IWIs1mJW9Wlx",
        "outputId": "5e945490-9aa6-4441-dd22-74ad48518a51"
      },
      "execution_count": null,
      "outputs": [
        {
          "output_type": "execute_result",
          "data": {
            "text/plain": [
              "userId\n",
              "78213     88384\n",
              "17035     10908\n",
              "159300    10600\n",
              "119227     9763\n",
              "147560     6912\n",
              "34874      6798\n",
              "34458      4965\n",
              "6324       4793\n",
              "151456     4469\n",
              "144253     3891\n",
              "Name: count, dtype: int64"
            ],
            "text/html": [
              "<div>\n",
              "<style scoped>\n",
              "    .dataframe tbody tr th:only-of-type {\n",
              "        vertical-align: middle;\n",
              "    }\n",
              "\n",
              "    .dataframe tbody tr th {\n",
              "        vertical-align: top;\n",
              "    }\n",
              "\n",
              "    .dataframe thead th {\n",
              "        text-align: right;\n",
              "    }\n",
              "</style>\n",
              "<table border=\"1\" class=\"dataframe\">\n",
              "  <thead>\n",
              "    <tr style=\"text-align: right;\">\n",
              "      <th></th>\n",
              "      <th>count</th>\n",
              "    </tr>\n",
              "    <tr>\n",
              "      <th>userId</th>\n",
              "      <th></th>\n",
              "    </tr>\n",
              "  </thead>\n",
              "  <tbody>\n",
              "    <tr>\n",
              "      <th>78213</th>\n",
              "      <td>88384</td>\n",
              "    </tr>\n",
              "    <tr>\n",
              "      <th>17035</th>\n",
              "      <td>10908</td>\n",
              "    </tr>\n",
              "    <tr>\n",
              "      <th>159300</th>\n",
              "      <td>10600</td>\n",
              "    </tr>\n",
              "    <tr>\n",
              "      <th>119227</th>\n",
              "      <td>9763</td>\n",
              "    </tr>\n",
              "    <tr>\n",
              "      <th>147560</th>\n",
              "      <td>6912</td>\n",
              "    </tr>\n",
              "    <tr>\n",
              "      <th>34874</th>\n",
              "      <td>6798</td>\n",
              "    </tr>\n",
              "    <tr>\n",
              "      <th>34458</th>\n",
              "      <td>4965</td>\n",
              "    </tr>\n",
              "    <tr>\n",
              "      <th>6324</th>\n",
              "      <td>4793</td>\n",
              "    </tr>\n",
              "    <tr>\n",
              "      <th>151456</th>\n",
              "      <td>4469</td>\n",
              "    </tr>\n",
              "    <tr>\n",
              "      <th>144253</th>\n",
              "      <td>3891</td>\n",
              "    </tr>\n",
              "  </tbody>\n",
              "</table>\n",
              "</div><br><label><b>dtype:</b> int64</label>"
            ]
          },
          "metadata": {},
          "execution_count": 12
        }
      ]
    },
    {
      "cell_type": "code",
      "source": [
        "df.info()"
      ],
      "metadata": {
        "colab": {
          "base_uri": "https://localhost:8080/"
        },
        "id": "SD4VTMJmjwfB",
        "outputId": "4f6846de-3e92-46fc-8d46-8a37a04d395b"
      },
      "execution_count": null,
      "outputs": [
        {
          "output_type": "stream",
          "name": "stdout",
          "text": [
            "<class 'pandas.core.frame.DataFrame'>\n",
            "RangeIndex: 530025 entries, 0 to 530024\n",
            "Data columns (total 9 columns):\n",
            " #   Column   Non-Null Count   Dtype  \n",
            "---  ------   --------------   -----  \n",
            " 0   userId   530025 non-null  int64  \n",
            " 1   movieId  530025 non-null  int64  \n",
            " 2   rating   530025 non-null  float64\n",
            " 3   title    530025 non-null  object \n",
            " 4   genres   530025 non-null  object \n",
            " 5   year     530025 non-null  int64  \n",
            " 6   tag      530025 non-null  object \n",
            " 7   imdbId   530025 non-null  int64  \n",
            " 8   tmdbId   529976 non-null  float64\n",
            "dtypes: float64(2), int64(4), object(3)\n",
            "memory usage: 36.4+ MB\n"
          ]
        }
      ]
    },
    {
      "cell_type": "code",
      "source": [
        "\n",
        "from surprise import Dataset, Reader, SVDpp\n",
        "from surprise.model_selection import train_test_split\n",
        "from surprise.accuracy import rmse, mae\n",
        "import time\n",
        "from surprise import SVD\n",
        "# Load data\n",
        "reader = Reader(rating_scale=(0.5, 5.0))\n",
        "data = Dataset.load_from_df(df[['userId', 'movieId', 'rating']], reader)\n",
        "trainset, testset = train_test_split(data, test_size=0.3, random_state=42)\n",
        "\n",
        "# Train SVD++\n",
        "model = SVD(n_factors=50, n_epochs=10)\n",
        "start = time.time()\n",
        "model.fit(trainset)\n",
        "print(\"Training time (s):\", time.time() - start)\n",
        "\n",
        "\n",
        "# Evaluate\n",
        "predictions = model.test(testset)\n",
        "print(f\"SVD++ → RMSE: {rmse(predictions):.4f}, MAE: {mae(predictions):.4f}\")\n"
      ],
      "metadata": {
        "colab": {
          "base_uri": "https://localhost:8080/"
        },
        "id": "4lblZQ0ddCCF",
        "outputId": "ebdad2f7-0d00-4406-cfdd-a91f1354f351"
      },
      "execution_count": null,
      "outputs": [
        {
          "output_type": "stream",
          "name": "stdout",
          "text": [
            "Training time (s): 2.9471585750579834\n",
            "RMSE: 0.4826\n",
            "MAE:  0.3026\n",
            "SVD++ → RMSE: 0.4826, MAE: 0.3026\n"
          ]
        }
      ]
    }
  ]
}